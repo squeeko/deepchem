{
  "nbformat": 4,
  "nbformat_minor": 0,
  "metadata": {
    "kernelspec": {
      "display_name": "Python 3",
      "language": "python",
      "name": "python3"
    },
    "language_info": {
      "codemirror_mode": {
        "name": "ipython",
        "version": 3
      },
      "file_extension": ".py",
      "mimetype": "text/x-python",
      "name": "python",
      "nbconvert_exporter": "python",
      "pygments_lexer": "ipython3",
      "version": "3.6.10"
    },
    "colab": {
      "name": "06_Going_Deeper_on_Molecular_Featurizations.ipynb",
      "provenance": []
    }
  },
  "cells": [
    {
      "cell_type": "markdown",
      "metadata": {
        "id": "tTuYGOlnh117",
        "colab_type": "text"
      },
      "source": [
        "# Tutorial Part 6: Going Deeper On Molecular Featurizations\n",
        "\n",
        "One of the most important steps of doing machine learning on molecular data is transforming this data into a form amenable to the application of learning algorithms. This process is broadly called \"featurization\" and involves tutrning a molecule into a vector or tensor of some sort. There are a number of different ways of doing such transformations, and the choice of featurization is often dependent on the problem at hand.\n",
        "\n",
        "In this tutorial,  we explore the different featurization methods available for molecules. These featurization methods include:\n",
        "\n",
        "1. `RDKitDescriptors`\n",
        "2. `BPSymmetryFunction`\n",
        "3. `CoulombMatrix`\n",
        "4. `CoulombMatrixEig`\n",
        "\n",
        "## Colab\n",
        "\n",
        "This tutorial and the rest in this sequence are designed to be done in Google colab. If you'd like to open this notebook in colab, you can use the following link.\n",
        "\n",
        "[![Open In Colab](https://colab.research.google.com/assets/colab-badge.svg)](https://colab.research.google.com/github/deepchem/deepchem/blob/master/examples/tutorials/06_Going_Deeper_on_Molecular_Featurizations.ipynb)\n",
        "\n",
        "## Setup\n",
        "\n",
        "To run DeepChem within Colab, you'll need to run the following cell of installation commands. This will take about 5 minutes to run to completion and install your environment."
      ]
    },
    {
      "cell_type": "code",
      "metadata": {
        "id": "tS3siM3Ch11-",
        "colab_type": "code",
        "colab": {
          "base_uri": "https://localhost:8080/",
          "height": 170
        },
        "outputId": "3a96e0a7-46c1-4baa-91da-f98ca5a33d6d"
      },
      "source": [
        "!curl -Lo conda_installer.py https://raw.githubusercontent.com/deepchem/deepchem/master/scripts/colab_install.py\n",
        "import conda_installer\n",
        "conda_installer.install()\n",
        "!/root/miniconda/bin/conda info -e"
      ],
      "execution_count": 1,
      "outputs": [
        {
          "output_type": "stream",
          "text": [
            "  % Total    % Received % Xferd  Average Speed   Time    Time     Time  Current\n",
            "                                 Dload  Upload   Total   Spent    Left  Speed\n",
            "\r  0     0    0     0    0     0      0      0 --:--:-- --:--:-- --:--:--     0\r  0     0    0     0    0     0      0      0 --:--:-- --:--:-- --:--:--     0\r100  3490  100  3490    0     0  36736      0 --:--:-- --:--:-- --:--:-- 36354\n"
          ],
          "name": "stdout"
        },
        {
          "output_type": "stream",
          "text": [
            "add /root/miniconda/lib/python3.6/site-packages to PYTHONPATH\n",
            "all packages are already installed\n"
          ],
          "name": "stderr"
        },
        {
          "output_type": "stream",
          "text": [
            "# conda environments:\n",
            "#\n",
            "base                  *  /root/miniconda\n",
            "\n"
          ],
          "name": "stdout"
        }
      ]
    },
    {
      "cell_type": "code",
      "metadata": {
        "id": "D43MbibL_EK0",
        "colab_type": "code",
        "colab": {
          "base_uri": "https://localhost:8080/",
          "height": 188
        },
        "outputId": "e7b205ae-9962-4089-d49a-6d0ebe4c8430"
      },
      "source": [
        "!pip install --pre deepchem\n",
        "import deepchem\n",
        "deepchem.__version__"
      ],
      "execution_count": 2,
      "outputs": [
        {
          "output_type": "stream",
          "text": [
            "Requirement already satisfied: deepchem in /usr/local/lib/python3.6/dist-packages (2.4.0rc1.dev20200913132940)\n",
            "Requirement already satisfied: pandas in /usr/local/lib/python3.6/dist-packages (from deepchem) (1.0.5)\n",
            "Requirement already satisfied: numpy in /usr/local/lib/python3.6/dist-packages (from deepchem) (1.18.5)\n",
            "Requirement already satisfied: scipy in /usr/local/lib/python3.6/dist-packages (from deepchem) (1.4.1)\n",
            "Requirement already satisfied: joblib in /usr/local/lib/python3.6/dist-packages (from deepchem) (0.16.0)\n",
            "Requirement already satisfied: scikit-learn in /usr/local/lib/python3.6/dist-packages (from deepchem) (0.22.2.post1)\n",
            "Requirement already satisfied: python-dateutil>=2.6.1 in /usr/local/lib/python3.6/dist-packages (from pandas->deepchem) (2.8.1)\n",
            "Requirement already satisfied: pytz>=2017.2 in /usr/local/lib/python3.6/dist-packages (from pandas->deepchem) (2018.9)\n",
            "Requirement already satisfied: six>=1.5 in /usr/local/lib/python3.6/dist-packages (from python-dateutil>=2.6.1->pandas->deepchem) (1.15.0)\n"
          ],
          "name": "stdout"
        },
        {
          "output_type": "execute_result",
          "data": {
            "application/vnd.google.colaboratory.intrinsic+json": {
              "type": "string"
            },
            "text/plain": [
              "'2.4.0-rc1.dev'"
            ]
          },
          "metadata": {
            "tags": []
          },
          "execution_count": 2
        }
      ]
    },
    {
      "cell_type": "markdown",
      "metadata": {
        "id": "omxBgQVDh12B",
        "colab_type": "text"
      },
      "source": [
        "Let's start with some basic imports"
      ]
    },
    {
      "cell_type": "code",
      "metadata": {
        "id": "Sp5Hbb4nh12C",
        "colab_type": "code",
        "colab": {}
      },
      "source": [
        "import numpy as np\n",
        "\n",
        "from rdkit import Chem\n",
        "\n",
        "from deepchem.feat import RDKitDescriptors\n",
        "from deepchem.feat import BPSymmetryFunctionInput\n",
        "from deepchem.feat import CoulombMatrix, CoulombMatrixEig\n",
        "from deepchem.utils import conformers"
      ],
      "execution_count": 3,
      "outputs": []
    },
    {
      "cell_type": "markdown",
      "metadata": {
        "id": "_bC1mPM4h12F",
        "colab_type": "text"
      },
      "source": [
        "We use `propane`( $CH_3 CH_2 CH_3 $ ) as a running example throughout this tutorial. Many of the featurization methods use conformers or the molecules. A conformer can be generated using the `ConformerGenerator` class in `deepchem.utils.conformers`. "
      ]
    },
    {
      "cell_type": "markdown",
      "metadata": {
        "id": "4D9z0slLh12G",
        "colab_type": "text"
      },
      "source": [
        "### RDKitDescriptors"
      ]
    },
    {
      "cell_type": "markdown",
      "metadata": {
        "id": "oCfATWYIh12H",
        "colab_type": "text"
      },
      "source": [
        "`RDKitDescriptors` featurizes a molecule by computing descriptors values for specified descriptors. Intrinsic to the featurizer is a set of allowed descriptors, which can be accessed using `RDKitDescriptors.allowedDescriptors`.\n",
        "\n",
        "The featurizer uses the descriptors in `rdkit.Chem.Descriptors.descList`, checks if they are in the list of allowed descriptors and computes the descriptor value for the molecule."
      ]
    },
    {
      "cell_type": "code",
      "metadata": {
        "id": "WUfNkB5Wh12I",
        "colab_type": "code",
        "colab": {}
      },
      "source": [
        "example_smile = \"CCC\"\n",
        "example_mol = Chem.MolFromSmiles(example_smile)"
      ],
      "execution_count": 4,
      "outputs": []
    },
    {
      "cell_type": "markdown",
      "metadata": {
        "id": "Xxb9G_W9h12L",
        "colab_type": "text"
      },
      "source": [
        "Let's check the allowed list of descriptors. As you will see shortly, there's a wide range of chemical properties that RDKit computes for us."
      ]
    },
    {
      "cell_type": "code",
      "metadata": {
        "id": "3dt_vjtXh12N",
        "colab_type": "code",
        "colab": {
          "base_uri": "https://localhost:8080/",
          "height": 1000
        },
        "outputId": "c6f73232-0765-479c-93b0-ba18cbf6f33a"
      },
      "source": [
        "rdkit_featurizer = RDKitDescriptors()\n",
        "for descriptor in rdkit_featurizer.descriptors:\n",
        "    print(descriptor)"
      ],
      "execution_count": 5,
      "outputs": [
        {
          "output_type": "stream",
          "text": [
            "MaxEStateIndex\n",
            "MinEStateIndex\n",
            "MaxAbsEStateIndex\n",
            "MinAbsEStateIndex\n",
            "qed\n",
            "MolWt\n",
            "HeavyAtomMolWt\n",
            "ExactMolWt\n",
            "NumValenceElectrons\n",
            "NumRadicalElectrons\n",
            "MaxPartialCharge\n",
            "MinPartialCharge\n",
            "MaxAbsPartialCharge\n",
            "MinAbsPartialCharge\n",
            "FpDensityMorgan1\n",
            "FpDensityMorgan2\n",
            "FpDensityMorgan3\n",
            "BalabanJ\n",
            "BertzCT\n",
            "Chi0\n",
            "Chi0n\n",
            "Chi0v\n",
            "Chi1\n",
            "Chi1n\n",
            "Chi1v\n",
            "Chi2n\n",
            "Chi2v\n",
            "Chi3n\n",
            "Chi3v\n",
            "Chi4n\n",
            "Chi4v\n",
            "HallKierAlpha\n",
            "Ipc\n",
            "Kappa1\n",
            "Kappa2\n",
            "Kappa3\n",
            "LabuteASA\n",
            "PEOE_VSA1\n",
            "PEOE_VSA10\n",
            "PEOE_VSA11\n",
            "PEOE_VSA12\n",
            "PEOE_VSA13\n",
            "PEOE_VSA14\n",
            "PEOE_VSA2\n",
            "PEOE_VSA3\n",
            "PEOE_VSA4\n",
            "PEOE_VSA5\n",
            "PEOE_VSA6\n",
            "PEOE_VSA7\n",
            "PEOE_VSA8\n",
            "PEOE_VSA9\n",
            "SMR_VSA1\n",
            "SMR_VSA10\n",
            "SMR_VSA2\n",
            "SMR_VSA3\n",
            "SMR_VSA4\n",
            "SMR_VSA5\n",
            "SMR_VSA6\n",
            "SMR_VSA7\n",
            "SMR_VSA8\n",
            "SMR_VSA9\n",
            "SlogP_VSA1\n",
            "SlogP_VSA10\n",
            "SlogP_VSA11\n",
            "SlogP_VSA12\n",
            "SlogP_VSA2\n",
            "SlogP_VSA3\n",
            "SlogP_VSA4\n",
            "SlogP_VSA5\n",
            "SlogP_VSA6\n",
            "SlogP_VSA7\n",
            "SlogP_VSA8\n",
            "SlogP_VSA9\n",
            "TPSA\n",
            "EState_VSA1\n",
            "EState_VSA10\n",
            "EState_VSA11\n",
            "EState_VSA2\n",
            "EState_VSA3\n",
            "EState_VSA4\n",
            "EState_VSA5\n",
            "EState_VSA6\n",
            "EState_VSA7\n",
            "EState_VSA8\n",
            "EState_VSA9\n",
            "VSA_EState1\n",
            "VSA_EState10\n",
            "VSA_EState2\n",
            "VSA_EState3\n",
            "VSA_EState4\n",
            "VSA_EState5\n",
            "VSA_EState6\n",
            "VSA_EState7\n",
            "VSA_EState8\n",
            "VSA_EState9\n",
            "FractionCSP3\n",
            "HeavyAtomCount\n",
            "NHOHCount\n",
            "NOCount\n",
            "NumAliphaticCarbocycles\n",
            "NumAliphaticHeterocycles\n",
            "NumAliphaticRings\n",
            "NumAromaticCarbocycles\n",
            "NumAromaticHeterocycles\n",
            "NumAromaticRings\n",
            "NumHAcceptors\n",
            "NumHDonors\n",
            "NumHeteroatoms\n",
            "NumRotatableBonds\n",
            "NumSaturatedCarbocycles\n",
            "NumSaturatedHeterocycles\n",
            "NumSaturatedRings\n",
            "RingCount\n",
            "MolLogP\n",
            "MolMR\n",
            "fr_Al_COO\n",
            "fr_Al_OH\n",
            "fr_Al_OH_noTert\n",
            "fr_ArN\n",
            "fr_Ar_COO\n",
            "fr_Ar_N\n",
            "fr_Ar_NH\n",
            "fr_Ar_OH\n",
            "fr_COO\n",
            "fr_COO2\n",
            "fr_C_O\n",
            "fr_C_O_noCOO\n",
            "fr_C_S\n",
            "fr_HOCCN\n",
            "fr_Imine\n",
            "fr_NH0\n",
            "fr_NH1\n",
            "fr_NH2\n",
            "fr_N_O\n",
            "fr_Ndealkylation1\n",
            "fr_Ndealkylation2\n",
            "fr_Nhpyrrole\n",
            "fr_SH\n",
            "fr_aldehyde\n",
            "fr_alkyl_carbamate\n",
            "fr_alkyl_halide\n",
            "fr_allylic_oxid\n",
            "fr_amide\n",
            "fr_amidine\n",
            "fr_aniline\n",
            "fr_aryl_methyl\n",
            "fr_azide\n",
            "fr_azo\n",
            "fr_barbitur\n",
            "fr_benzene\n",
            "fr_benzodiazepine\n",
            "fr_bicyclic\n",
            "fr_diazo\n",
            "fr_dihydropyridine\n",
            "fr_epoxide\n",
            "fr_ester\n",
            "fr_ether\n",
            "fr_furan\n",
            "fr_guanido\n",
            "fr_halogen\n",
            "fr_hdrzine\n",
            "fr_hdrzone\n",
            "fr_imidazole\n",
            "fr_imide\n",
            "fr_isocyan\n",
            "fr_isothiocyan\n",
            "fr_ketone\n",
            "fr_ketone_Topliss\n",
            "fr_lactam\n",
            "fr_lactone\n",
            "fr_methoxy\n",
            "fr_morpholine\n",
            "fr_nitrile\n",
            "fr_nitro\n",
            "fr_nitro_arom\n",
            "fr_nitro_arom_nonortho\n",
            "fr_nitroso\n",
            "fr_oxazole\n",
            "fr_oxime\n",
            "fr_para_hydroxylation\n",
            "fr_phenol\n",
            "fr_phenol_noOrthoHbond\n",
            "fr_phos_acid\n",
            "fr_phos_ester\n",
            "fr_piperdine\n",
            "fr_piperzine\n",
            "fr_priamide\n",
            "fr_prisulfonamd\n",
            "fr_pyridine\n",
            "fr_quatN\n",
            "fr_sulfide\n",
            "fr_sulfonamd\n",
            "fr_sulfone\n",
            "fr_term_acetylene\n",
            "fr_tetrazole\n",
            "fr_thiazole\n",
            "fr_thiocyan\n",
            "fr_thiophene\n",
            "fr_unbrch_alkane\n",
            "fr_urea\n"
          ],
          "name": "stdout"
        }
      ]
    },
    {
      "cell_type": "code",
      "metadata": {
        "id": "KfyDpE81h12Q",
        "colab_type": "code",
        "colab": {
          "base_uri": "https://localhost:8080/",
          "height": 34
        },
        "outputId": "46673131-c504-48ca-db35-5d689e218069"
      },
      "source": [
        "features = rdkit_featurizer._featurize(example_mol)\n",
        "\n",
        "print('The number of descriptors present are: ', len(features))"
      ],
      "execution_count": 6,
      "outputs": [
        {
          "output_type": "stream",
          "text": [
            "The number of descriptors present are:  200\n"
          ],
          "name": "stdout"
        }
      ]
    },
    {
      "cell_type": "markdown",
      "metadata": {
        "id": "hE6G0Gboh12T",
        "colab_type": "text"
      },
      "source": [
        "### BPSymmetryFunction"
      ]
    },
    {
      "cell_type": "markdown",
      "metadata": {
        "id": "41RwzbTth12U",
        "colab_type": "text"
      },
      "source": [
        "`Behler-Parinello Symmetry function` or `BPSymmetryFunction` featurizes a molecule by computing the atomic number and coordinates for each atom in the molecule. The features can be used as input for symmetry functions, like `RadialSymmetry`, `DistanceMatrix` and `DistanceCutoff` . More details on these symmetry functions can be found in [this paper](https://journals.aps.org/prl/pdf/10.1103/PhysRevLett.98.146401). These functions can be found in `deepchem.feat.coulomb_matrices`\n",
        "\n",
        "The featurizer takes in `max_atoms` as an argument. As input, it takes in a conformer of the molecule and computes:\n",
        "\n",
        "1. coordinates of every atom in the molecule (in Bohr units)\n",
        "2. the atomic numbers for all atoms. \n",
        "\n",
        "These features are concantenated and padded with zeros to account for different number of atoms, across molecules."
      ]
    },
    {
      "cell_type": "code",
      "metadata": {
        "id": "PpbPi0Qah12V",
        "colab_type": "code",
        "colab": {}
      },
      "source": [
        "example_smile = \"CCC\"\n",
        "example_mol = Chem.MolFromSmiles(example_smile)\n",
        "engine = conformers.ConformerGenerator(max_conformers=1)\n",
        "example_mol = engine.generate_conformers(example_mol)"
      ],
      "execution_count": 7,
      "outputs": []
    },
    {
      "cell_type": "markdown",
      "metadata": {
        "id": "j7WrM5phh12X",
        "colab_type": "text"
      },
      "source": [
        "Let's now take a look at the actual featurized matrix that comes out."
      ]
    },
    {
      "cell_type": "code",
      "metadata": {
        "id": "IuPE4MXZh12Y",
        "colab_type": "code",
        "colab": {
          "base_uri": "https://localhost:8080/",
          "height": 357
        },
        "outputId": "f8d98785-6e03-41c6-c3f9-d6f725ad1e69"
      },
      "source": [
        "bp_sym = BPSymmetryFunctionInput(max_atoms=20)\n",
        "features = bp_sym._featurize(mol=example_mol)\n",
        "features"
      ],
      "execution_count": 8,
      "outputs": [
        {
          "output_type": "execute_result",
          "data": {
            "text/plain": [
              "array([[ 6.        ,  2.33166293, -0.52962788, -0.48097309],\n",
              "       [ 6.        ,  0.0948792 ,  1.07597567, -1.33579553],\n",
              "       [ 6.        , -2.40436371, -0.29483572, -0.90388318],\n",
              "       [ 1.        ,  2.18166462, -0.95639011,  1.569049  ],\n",
              "       [ 1.        ,  4.1178375 ,  0.51816193, -0.81949623],\n",
              "       [ 1.        ,  2.39319787, -2.32844253, -1.56157176],\n",
              "       [ 1.        ,  0.29919987,  1.51730566, -3.37889252],\n",
              "       [ 1.        ,  0.08875543,  2.88229706, -0.26437996],\n",
              "       [ 1.        , -3.99100651,  0.92016315, -1.54358853],\n",
              "       [ 1.        , -2.66167993, -0.71627602,  1.136556  ],\n",
              "       [ 1.        , -2.45014726, -2.08833123, -1.99406318],\n",
              "       [ 0.        ,  0.        ,  0.        ,  0.        ],\n",
              "       [ 0.        ,  0.        ,  0.        ,  0.        ],\n",
              "       [ 0.        ,  0.        ,  0.        ,  0.        ],\n",
              "       [ 0.        ,  0.        ,  0.        ,  0.        ],\n",
              "       [ 0.        ,  0.        ,  0.        ,  0.        ],\n",
              "       [ 0.        ,  0.        ,  0.        ,  0.        ],\n",
              "       [ 0.        ,  0.        ,  0.        ,  0.        ],\n",
              "       [ 0.        ,  0.        ,  0.        ,  0.        ],\n",
              "       [ 0.        ,  0.        ,  0.        ,  0.        ]])"
            ]
          },
          "metadata": {
            "tags": []
          },
          "execution_count": 8
        }
      ]
    },
    {
      "cell_type": "markdown",
      "metadata": {
        "id": "2w0oGOgMh12b",
        "colab_type": "text"
      },
      "source": [
        "A simple check for the featurization would be to count the different atomic numbers present in the features."
      ]
    },
    {
      "cell_type": "code",
      "metadata": {
        "id": "1rbcGUf6h12c",
        "colab_type": "code",
        "colab": {
          "base_uri": "https://localhost:8080/",
          "height": 34
        },
        "outputId": "e2f551dc-93da-4888-9f10-17b59c28f3db"
      },
      "source": [
        "atomic_numbers = features[:, 0]\n",
        "from collections import Counter\n",
        "\n",
        "unique_numbers = Counter(atomic_numbers)\n",
        "print(unique_numbers)"
      ],
      "execution_count": 9,
      "outputs": [
        {
          "output_type": "stream",
          "text": [
            "Counter({0.0: 9, 1.0: 8, 6.0: 3})\n"
          ],
          "name": "stdout"
        }
      ]
    },
    {
      "cell_type": "markdown",
      "metadata": {
        "id": "f8T557NOh12e",
        "colab_type": "text"
      },
      "source": [
        "For propane, we have $3$ `C-atoms` and $8$ `H-atoms`, and these numbers are in agreement with the results shown above. There's also the additional padding of 9 atoms, to equalize with `max_atoms`."
      ]
    },
    {
      "cell_type": "markdown",
      "metadata": {
        "id": "o-5L6sx0h12f",
        "colab_type": "text"
      },
      "source": [
        "### CoulombMatrix"
      ]
    },
    {
      "cell_type": "markdown",
      "metadata": {
        "id": "SF3l5yJ4h12f",
        "colab_type": "text"
      },
      "source": [
        "`CoulombMatrix`, featurizes a molecule by computing the coulomb matrices for different conformers of the molecule, and returning it as a list.\n",
        "\n",
        "A Coulomb matrix tries to encode the energy structure of a molecule. The matrix is symmetric, with the off-diagonal elements capturing the Coulombic repulsion between pairs of atoms and the diagonal elements capturing atomic energies using the atomic numbers. More information on the functional forms used can be found [here](https://journals.aps.org/prl/pdf/10.1103/PhysRevLett.108.058301).\n",
        "\n",
        "The featurizer takes in `max_atoms` as an argument and also has options for removing hydrogens from the molecule (`remove_hydrogens`), generating additional random coulomb matrices(`randomize`), and getting only the upper triangular matrix (`upper_tri`)."
      ]
    },
    {
      "cell_type": "code",
      "metadata": {
        "id": "evLPEI6mh12g",
        "colab_type": "code",
        "colab": {
          "base_uri": "https://localhost:8080/",
          "height": 34
        },
        "outputId": "c0895d51-a38d-494e-d161-31ce5c421fb3"
      },
      "source": [
        "example_smile = \"CCC\"\n",
        "example_mol = Chem.MolFromSmiles(example_smile)\n",
        "\n",
        "engine = conformers.ConformerGenerator(max_conformers=1)\n",
        "example_mol = engine.generate_conformers(example_mol)\n",
        "\n",
        "print(\"Number of available conformers for propane: \", len(example_mol.GetConformers()))"
      ],
      "execution_count": 10,
      "outputs": [
        {
          "output_type": "stream",
          "text": [
            "Number of available conformers for propane:  1\n"
          ],
          "name": "stdout"
        }
      ]
    },
    {
      "cell_type": "code",
      "metadata": {
        "id": "pPIqy39Ih12i",
        "colab_type": "code",
        "colab": {
          "base_uri": "https://localhost:8080/",
          "height": 51
        },
        "outputId": "ca7b18b3-cfa4-44e8-a907-cbffd4e65364"
      },
      "source": [
        "coulomb_mat = CoulombMatrix(max_atoms=20, randomize=False, remove_hydrogens=False, upper_tri=False)\n",
        "features = coulomb_mat._featurize(mol=example_mol)"
      ],
      "execution_count": 11,
      "outputs": [
        {
          "output_type": "stream",
          "text": [
            "/usr/local/lib/python3.6/dist-packages/deepchem/feat/molecule_featurizers/coulomb_matrices.py:141: RuntimeWarning: divide by zero encountered in true_divide\n",
            "  m = np.outer(z, z) / d\n"
          ],
          "name": "stderr"
        }
      ]
    },
    {
      "cell_type": "markdown",
      "metadata": {
        "id": "Uyq3Xk3sh12l",
        "colab_type": "text"
      },
      "source": [
        "A simple check for the featurization"
      ]
    },
    {
      "cell_type": "code",
      "metadata": {
        "id": "ShTPO4wIh12l",
        "colab_type": "code",
        "colab": {
          "base_uri": "https://localhost:8080/",
          "height": 34
        },
        "outputId": "03d14b38-372f-487c-fc8b-07eb0ddcf9aa"
      },
      "source": [
        "features.shape"
      ],
      "execution_count": 12,
      "outputs": [
        {
          "output_type": "execute_result",
          "data": {
            "text/plain": [
              "(20, 20)"
            ]
          },
          "metadata": {
            "tags": []
          },
          "execution_count": 12
        }
      ]
    },
    {
      "cell_type": "code",
      "metadata": {
        "id": "WtNqK4oSq6Mq",
        "colab_type": "code",
        "colab": {
          "base_uri": "https://localhost:8080/",
          "height": 1000
        },
        "outputId": "5ed618b9-53d3-4684-ce9b-bc1fd7e8e222"
      },
      "source": [
        "features"
      ],
      "execution_count": 13,
      "outputs": [
        {
          "output_type": "execute_result",
          "data": {
            "text/plain": [
              "array([[36.8581052 , 12.48684429,  7.5619687 ,  2.85945193,  2.85804514,\n",
              "         2.85804556,  1.4674015 ,  1.46740144,  0.91279491,  1.14239698,\n",
              "         1.14239675,  0.        ,  0.        ,  0.        ,  0.        ,\n",
              "         0.        ,  0.        ,  0.        ,  0.        ,  0.        ],\n",
              "       [12.48684429, 36.8581052 , 12.48684388,  1.46551218,  1.45850736,\n",
              "         1.45850732,  2.85689525,  2.85689538,  1.4655122 ,  1.4585072 ,\n",
              "         1.4585072 ,  0.        ,  0.        ,  0.        ,  0.        ,\n",
              "         0.        ,  0.        ,  0.        ,  0.        ,  0.        ],\n",
              "       [ 7.5619687 , 12.48684388, 36.8581052 ,  0.9127949 ,  1.14239695,\n",
              "         1.14239692,  1.46740146,  1.46740145,  2.85945178,  2.85804504,\n",
              "         2.85804493,  0.        ,  0.        ,  0.        ,  0.        ,\n",
              "         0.        ,  0.        ,  0.        ,  0.        ,  0.        ],\n",
              "       [ 2.85945193,  1.46551218,  0.9127949 ,  0.5       ,  0.29325367,\n",
              "         0.29325369,  0.21256978,  0.21256978,  0.12268391,  0.13960187,\n",
              "         0.13960185,  0.        ,  0.        ,  0.        ,  0.        ,\n",
              "         0.        ,  0.        ,  0.        ,  0.        ,  0.        ],\n",
              "       [ 2.85804514,  1.45850736,  1.14239695,  0.29325367,  0.5       ,\n",
              "         0.29200271,  0.17113413,  0.21092513,  0.13960186,  0.1680002 ,\n",
              "         0.20540029,  0.        ,  0.        ,  0.        ,  0.        ,\n",
              "         0.        ,  0.        ,  0.        ,  0.        ,  0.        ],\n",
              "       [ 2.85804556,  1.45850732,  1.14239692,  0.29325369,  0.29200271,\n",
              "         0.5       ,  0.21092513,  0.17113413,  0.13960187,  0.20540032,\n",
              "         0.16800016,  0.        ,  0.        ,  0.        ,  0.        ,\n",
              "         0.        ,  0.        ,  0.        ,  0.        ,  0.        ],\n",
              "       [ 1.4674015 ,  2.85689525,  1.46740146,  0.21256978,  0.17113413,\n",
              "         0.21092513,  0.5       ,  0.29351308,  0.21256981,  0.2109251 ,\n",
              "         0.17113412,  0.        ,  0.        ,  0.        ,  0.        ,\n",
              "         0.        ,  0.        ,  0.        ,  0.        ,  0.        ],\n",
              "       [ 1.46740144,  2.85689538,  1.46740145,  0.21256978,  0.21092513,\n",
              "         0.17113413,  0.29351308,  0.5       ,  0.21256977,  0.17113412,\n",
              "         0.21092513,  0.        ,  0.        ,  0.        ,  0.        ,\n",
              "         0.        ,  0.        ,  0.        ,  0.        ,  0.        ],\n",
              "       [ 0.91279491,  1.4655122 ,  2.85945178,  0.12268391,  0.13960186,\n",
              "         0.13960187,  0.21256981,  0.21256977,  0.5       ,  0.29325366,\n",
              "         0.29325365,  0.        ,  0.        ,  0.        ,  0.        ,\n",
              "         0.        ,  0.        ,  0.        ,  0.        ,  0.        ],\n",
              "       [ 1.14239698,  1.4585072 ,  2.85804504,  0.13960187,  0.1680002 ,\n",
              "         0.20540032,  0.2109251 ,  0.17113412,  0.29325366,  0.5       ,\n",
              "         0.29200266,  0.        ,  0.        ,  0.        ,  0.        ,\n",
              "         0.        ,  0.        ,  0.        ,  0.        ,  0.        ],\n",
              "       [ 1.14239675,  1.4585072 ,  2.85804493,  0.13960185,  0.20540029,\n",
              "         0.16800016,  0.17113412,  0.21092513,  0.29325365,  0.29200266,\n",
              "         0.5       ,  0.        ,  0.        ,  0.        ,  0.        ,\n",
              "         0.        ,  0.        ,  0.        ,  0.        ,  0.        ],\n",
              "       [ 0.        ,  0.        ,  0.        ,  0.        ,  0.        ,\n",
              "         0.        ,  0.        ,  0.        ,  0.        ,  0.        ,\n",
              "         0.        ,  0.        ,  0.        ,  0.        ,  0.        ,\n",
              "         0.        ,  0.        ,  0.        ,  0.        ,  0.        ],\n",
              "       [ 0.        ,  0.        ,  0.        ,  0.        ,  0.        ,\n",
              "         0.        ,  0.        ,  0.        ,  0.        ,  0.        ,\n",
              "         0.        ,  0.        ,  0.        ,  0.        ,  0.        ,\n",
              "         0.        ,  0.        ,  0.        ,  0.        ,  0.        ],\n",
              "       [ 0.        ,  0.        ,  0.        ,  0.        ,  0.        ,\n",
              "         0.        ,  0.        ,  0.        ,  0.        ,  0.        ,\n",
              "         0.        ,  0.        ,  0.        ,  0.        ,  0.        ,\n",
              "         0.        ,  0.        ,  0.        ,  0.        ,  0.        ],\n",
              "       [ 0.        ,  0.        ,  0.        ,  0.        ,  0.        ,\n",
              "         0.        ,  0.        ,  0.        ,  0.        ,  0.        ,\n",
              "         0.        ,  0.        ,  0.        ,  0.        ,  0.        ,\n",
              "         0.        ,  0.        ,  0.        ,  0.        ,  0.        ],\n",
              "       [ 0.        ,  0.        ,  0.        ,  0.        ,  0.        ,\n",
              "         0.        ,  0.        ,  0.        ,  0.        ,  0.        ,\n",
              "         0.        ,  0.        ,  0.        ,  0.        ,  0.        ,\n",
              "         0.        ,  0.        ,  0.        ,  0.        ,  0.        ],\n",
              "       [ 0.        ,  0.        ,  0.        ,  0.        ,  0.        ,\n",
              "         0.        ,  0.        ,  0.        ,  0.        ,  0.        ,\n",
              "         0.        ,  0.        ,  0.        ,  0.        ,  0.        ,\n",
              "         0.        ,  0.        ,  0.        ,  0.        ,  0.        ],\n",
              "       [ 0.        ,  0.        ,  0.        ,  0.        ,  0.        ,\n",
              "         0.        ,  0.        ,  0.        ,  0.        ,  0.        ,\n",
              "         0.        ,  0.        ,  0.        ,  0.        ,  0.        ,\n",
              "         0.        ,  0.        ,  0.        ,  0.        ,  0.        ],\n",
              "       [ 0.        ,  0.        ,  0.        ,  0.        ,  0.        ,\n",
              "         0.        ,  0.        ,  0.        ,  0.        ,  0.        ,\n",
              "         0.        ,  0.        ,  0.        ,  0.        ,  0.        ,\n",
              "         0.        ,  0.        ,  0.        ,  0.        ,  0.        ],\n",
              "       [ 0.        ,  0.        ,  0.        ,  0.        ,  0.        ,\n",
              "         0.        ,  0.        ,  0.        ,  0.        ,  0.        ,\n",
              "         0.        ,  0.        ,  0.        ,  0.        ,  0.        ,\n",
              "         0.        ,  0.        ,  0.        ,  0.        ,  0.        ]])"
            ]
          },
          "metadata": {
            "tags": []
          },
          "execution_count": 13
        }
      ]
    },
    {
      "cell_type": "markdown",
      "metadata": {
        "id": "P-sGs7W2h12p",
        "colab_type": "text"
      },
      "source": [
        "### CoulombMatrixEig"
      ]
    },
    {
      "cell_type": "markdown",
      "metadata": {
        "id": "9NTjtDUzh12p",
        "colab_type": "text"
      },
      "source": [
        "`CoulombMatrix` is invariant to molecular rotation and translation, since the interatomic distances or atomic numbers do not change. However the matrix is not invariant to random permutations of the atom's indices. To deal with this, the `CoulumbMatrixEig` featurizer was introduced, which uses the eigenvalue spectrum of the columb matrix, and is invariant to random permutations of the atom's indices.\n",
        "\n",
        "`CoulombMatrixEig` inherits from `CoulombMatrix` and featurizes a molecule by first computing the coulomb matrices for different conformers of the molecule and then computing the eigenvalues for each coulomb matrix. These eigenvalues are then padded to account for variation in number of atoms across molecules.\n",
        "\n",
        "The featurizer takes in `max_atoms` as an argument and also has options for removing hydrogens from the molecule (`remove_hydrogens`), generating additional random coulomb matrices(`randomize`)."
      ]
    },
    {
      "cell_type": "code",
      "metadata": {
        "id": "XnNZB-Kxh12q",
        "colab_type": "code",
        "colab": {
          "base_uri": "https://localhost:8080/",
          "height": 34
        },
        "outputId": "68265f30-9762-419f-e672-ba8cce4b829d"
      },
      "source": [
        "example_smile = \"CCC\"\n",
        "example_mol = Chem.MolFromSmiles(example_smile)\n",
        "\n",
        "engine = conformers.ConformerGenerator(max_conformers=1)\n",
        "example_mol = engine.generate_conformers(example_mol)\n",
        "\n",
        "print(\"Number of available conformers for propane: \", len(example_mol.GetConformers()))"
      ],
      "execution_count": 14,
      "outputs": [
        {
          "output_type": "stream",
          "text": [
            "Number of available conformers for propane:  1\n"
          ],
          "name": "stdout"
        }
      ]
    },
    {
      "cell_type": "code",
      "metadata": {
        "id": "ga1-nNiWh12t",
        "colab_type": "code",
        "colab": {
          "base_uri": "https://localhost:8080/",
          "height": 51
        },
        "outputId": "2df3163c-6808-49e6-dba8-282ddd7fa3c4"
      },
      "source": [
        "coulomb_mat_eig = CoulombMatrixEig(max_atoms=20, randomize=False, remove_hydrogens=False)\n",
        "features = coulomb_mat_eig._featurize(mol=example_mol)"
      ],
      "execution_count": 15,
      "outputs": [
        {
          "output_type": "stream",
          "text": [
            "/usr/local/lib/python3.6/dist-packages/deepchem/feat/molecule_featurizers/coulomb_matrices.py:141: RuntimeWarning: divide by zero encountered in true_divide\n",
            "  m = np.outer(z, z) / d\n"
          ],
          "name": "stderr"
        }
      ]
    },
    {
      "cell_type": "code",
      "metadata": {
        "id": "_8PBHQYLh12v",
        "colab_type": "code",
        "colab": {
          "base_uri": "https://localhost:8080/",
          "height": 85
        },
        "outputId": "47183f52-c4cf-4b78-f9d5-da5bcb08ef7e"
      },
      "source": [
        "features"
      ],
      "execution_count": 16,
      "outputs": [
        {
          "output_type": "execute_result",
          "data": {
            "text/plain": [
              "array([60.07620399, 29.62963149, 22.7549767 ,  0.57137864,  0.28781337,\n",
              "        0.28548342,  0.27558183,  0.18163794,  0.17460997,  0.17059723,\n",
              "        0.166401  ,  0.        ,  0.        ,  0.        ,  0.        ,\n",
              "        0.        ,  0.        ,  0.        ,  0.        ,  0.        ])"
            ]
          },
          "metadata": {
            "tags": []
          },
          "execution_count": 16
        }
      ]
    },
    {
      "cell_type": "markdown",
      "metadata": {
        "id": "wssi6cBmh12z",
        "colab_type": "text"
      },
      "source": [
        "# Congratulations! Time to join the Community!\n",
        "\n",
        "Congratulations on completing this tutorial notebook! If you enjoyed working through the tutorial, and want to continue working with DeepChem, we encourage you to finish the rest of the tutorials in this series. You can also help the DeepChem community in the following ways:\n",
        "\n",
        "## Star DeepChem on [GitHub](https://github.com/deepchem/deepchem)\n",
        "This helps build awareness of the DeepChem project and the tools for open source drug discovery that we're trying to build.\n",
        "\n",
        "## Join the DeepChem Gitter\n",
        "The DeepChem [Gitter](https://gitter.im/deepchem/Lobby) hosts a number of scientists, developers, and enthusiasts interested in deep learning for the life sciences. Join the conversation!"
      ]
    }
  ]
}